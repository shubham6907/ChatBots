{
  "nbformat": 4,
  "nbformat_minor": 0,
  "metadata": {
    "colab": {
      "provenance": [],
      "authorship_tag": "ABX9TyNxl8AlYlepUkw7XbAagG87",
      "include_colab_link": true
    },
    "kernelspec": {
      "name": "python3",
      "display_name": "Python 3"
    },
    "language_info": {
      "name": "python"
    }
  },
  "cells": [
    {
      "cell_type": "markdown",
      "metadata": {
        "id": "view-in-github",
        "colab_type": "text"
      },
      "source": [
        "<a href=\"https://colab.research.google.com/github/shubham6907/ChatBots/blob/main/Retrieval_Based_ChatBot_using_Spacy.ipynb\" target=\"_parent\"><img src=\"https://colab.research.google.com/assets/colab-badge.svg\" alt=\"Open In Colab\"/></a>"
      ]
    },
    {
      "cell_type": "code",
      "execution_count": 11,
      "metadata": {
        "id": "zHJWvvuW8qeD"
      },
      "outputs": [],
      "source": [
        "# Using Spacy\n",
        "\n",
        "import spacy\n",
        "\n",
        "# python -m spacy download en_core_web_sm\n",
        "# python -m spacy download en_core_web_md\n",
        "# !python -m spacy download en_core_web_lg\n",
        "# Load spaCy English model\n",
        "# nlp = spacy.load(\"en_core_web_sm\")\n",
        "# nlp = spacy.load(\"en_core_web_md\")\n",
        "nlp = spacy.load(\"en_core_web_lg\")\n",
        "\n",
        "# Sample conversation data\n",
        "conversation_data = [\n",
        "    \"Hi\",\n",
        "    \"Hello!\",\n",
        "    \"How are you doing?\",\n",
        "    \"I'm good, thank you. How about you?\",\n",
        "    \"Great. Are you a software developer?\",\n",
        "    \"Yes. I am.\",\n",
        "    \"Which languages do you know?\",\n",
        "    \"I know Python, Java and C\",\n",
        "    \"How many projects you have worked on?\",\n",
        "    \"I have worked on 3 projects.\",\n",
        "    \"Do you have interest in chat bot development?\",\n",
        "    \"Yes. I have.\",\n",
        "    \"Have you built any chat bots?\",\n",
        "    \"Yes. I have built some simple chatbots of different kinds\",\n",
        "    \"Ok great. I was nice meeting you. Thanks!\",\n",
        "    \"Thanks for the opportunity!\",\n",
        "    \"Bye\",\n",
        "    \"Bye. Have a nice day\"\n",
        "    # Add more conversation data\n",
        "]\n",
        "\n",
        "# Process and tokenize the conversation data\n",
        "processed_data = [nlp(text) for text in conversation_data]\n",
        "\n",
        "def get_response(user_input):\n",
        "    # Process and tokenize user input\n",
        "    processed_input = nlp(user_input)\n",
        "\n",
        "    # Calculate similarity between user input and conversation data\n",
        "    similarities = [processed_input.similarity(doc) for doc in processed_data]\n",
        "\n",
        "    # Find the index of the most similar response\n",
        "    index_of_most_similar = similarities.index(max(similarities))\n",
        "\n",
        "    # Return the corresponding response\n",
        "    return conversation_data[index_of_most_similar+1]\n"
      ]
    },
    {
      "cell_type": "code",
      "source": [
        "while True:\n",
        "    user_input = input(\"You: \")\n",
        "    if user_input.lower() == 'exit':\n",
        "        break\n",
        "    response = get_response(user_input)\n",
        "    print(\"ChatBot:\", response)"
      ],
      "metadata": {
        "colab": {
          "base_uri": "https://localhost:8080/"
        },
        "id": "tt7L8kzy81w2",
        "outputId": "f8ea5694-cfc9-428b-e5f5-0b98a77aeb35"
      },
      "execution_count": 13,
      "outputs": [
        {
          "name": "stdout",
          "output_type": "stream",
          "text": [
            "You: hi\n",
            "ChatBot: Hello!\n",
            "You: How are you doing\n",
            "ChatBot: I'm good, thank you. How about you?\n",
            "You: Great. Are you a software developer?\n",
            "ChatBot: Yes. I am.\n",
            "You: What languages do you know?\n",
            "ChatBot: I know Python, Java and C\n",
            "You: How many projects you have worked on?\n",
            "ChatBot: I have worked on 3 projects.\n",
            "You: Do you have interest in chatbot development?\n",
            "ChatBot: Yes. I have.\n",
            "You: Have you built any chatbots?\n",
            "ChatBot: Yes. I have built some simple chatbots of different kinds\n",
            "You: Ok great. I was nice meeting you. Thanks!\n",
            "ChatBot: Thanks for the opportunity!\n",
            "You: Bye\n",
            "ChatBot: Bye. Have a nice day\n",
            "You: exit\n"
          ]
        }
      ]
    }
  ]
}