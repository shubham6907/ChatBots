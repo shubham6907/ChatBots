{
  "nbformat": 4,
  "nbformat_minor": 0,
  "metadata": {
    "colab": {
      "provenance": [],
      "authorship_tag": "ABX9TyO8gtjKoxgiaPEInGxNKZuU",
      "include_colab_link": true
    },
    "kernelspec": {
      "name": "python3",
      "display_name": "Python 3"
    },
    "language_info": {
      "name": "python"
    }
  },
  "cells": [
    {
      "cell_type": "markdown",
      "metadata": {
        "id": "view-in-github",
        "colab_type": "text"
      },
      "source": [
        "<a href=\"https://colab.research.google.com/github/shubham6907/ChatBots/blob/main/Rule_Based_ChatBot_using_Regular_Expression.ipynb\" target=\"_parent\"><img src=\"https://colab.research.google.com/assets/colab-badge.svg\" alt=\"Open In Colab\"/></a>"
      ]
    },
    {
      "cell_type": "code",
      "execution_count": 2,
      "metadata": {
        "colab": {
          "base_uri": "https://localhost:8080/"
        },
        "id": "lWzGie933s5E",
        "outputId": "61837512-744e-45a1-af7f-da104d4b82f5"
      },
      "outputs": [
        {
          "name": "stdout",
          "output_type": "stream",
          "text": [
            "You: hi\n",
            "ChatBot: Hello! How can I help you?\n",
            "You: how are you\n",
            "ChatBot: I am a computer program, so I don't have feelings, but thanks for asking!\n",
            "You: bye\n",
            "ChatBot: Goodbye! Have a great day.\n",
            "You: exit\n"
          ]
        }
      ],
      "source": [
        "# Using Regular Expression (re)\n",
        "\n",
        "import re\n",
        "\n",
        "def simple_chatbot(user_input):\n",
        "    # Define patterns and corresponding responses\n",
        "    patterns = [\n",
        "        (r'hello|hi|hey', 'Hello! How can I help you?'),\n",
        "        (r'how are you', 'I am a computer program, so I don\\'t have feelings, but thanks for asking!'),\n",
        "        (r'bye|goodbye', 'Goodbye! Have a great day.'),\n",
        "        # Add more patterns and responses as needed\n",
        "    ]\n",
        "\n",
        "    # Check user input against patterns\n",
        "    for pattern, response in patterns:\n",
        "        if re.search(pattern, user_input, re.IGNORECASE):\n",
        "            return response\n",
        "\n",
        "    # If no match found, provide a default response\n",
        "    return \"I'm not sure how to respond to that. Can you ask me something else?\"\n",
        "\n",
        "# Example usage\n",
        "while True:\n",
        "    user_input = input(\"You: \")\n",
        "    if user_input.lower() == 'exit':\n",
        "        break\n",
        "    response = simple_chatbot(user_input)\n",
        "    print(\"ChatBot:\", response)"
      ]
    }
  ]
}