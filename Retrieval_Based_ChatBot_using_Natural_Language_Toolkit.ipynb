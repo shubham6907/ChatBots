{
  "nbformat": 4,
  "nbformat_minor": 0,
  "metadata": {
    "colab": {
      "provenance": [],
      "authorship_tag": "ABX9TyP7GdFD8peFdE378uK6gC52",
      "include_colab_link": true
    },
    "kernelspec": {
      "name": "python3",
      "display_name": "Python 3"
    },
    "language_info": {
      "name": "python"
    }
  },
  "cells": [
    {
      "cell_type": "markdown",
      "metadata": {
        "id": "view-in-github",
        "colab_type": "text"
      },
      "source": [
        "<a href=\"https://colab.research.google.com/github/shubham6907/ChatBots/blob/main/Retrieval_Based_ChatBot_using_Natural_Language_Toolkit.ipynb\" target=\"_parent\"><img src=\"https://colab.research.google.com/assets/colab-badge.svg\" alt=\"Open In Colab\"/></a>"
      ]
    },
    {
      "cell_type": "code",
      "source": [
        "import nltk\n",
        "from nltk.tokenize import word_tokenize\n",
        "from nltk.corpus import stopwords\n",
        "import random\n",
        "\n",
        "# Download NLTK resources if not already downloaded\n",
        "nltk.download('punkt')\n",
        "nltk.download('stopwords')\n",
        "\n",
        "# Define a set of responses\n",
        "responses = {\n",
        "    \"hi\": [\"Hi there!\", \"Hello!\", \"Hey!\"],\n",
        "    \"hello\": [\"Hi there!\", \"Hello!\", \"Hey!\"],\n",
        "    \"how are you\": [\"I'm doing well, thank you!\", \"Not too bad, thanks for asking.\"],\n",
        "    \"goodbye\": [\"Goodbye!\", \"See you later!\", \"Bye!\"],\n",
        "    \"bye\": [\"Goodbye!\", \"See you later!\", \"Bye!\"],\n",
        "    \"default\": [\"I'm not sure I understand.\", \"Can you please rephrase that?\", \"Sorry, I'm just a simple bot.\"]\n",
        "}\n",
        "\n",
        "# Preprocess input text\n",
        "def preprocess_input(text):\n",
        "    tokens = word_tokenize(text.lower())\n",
        "    tokens = [token for token in tokens if token.isalnum() and token not in stopwords.words('english')]\n",
        "    return tokens\n",
        "\n",
        "# Retrieve a response based on user input\n",
        "def get_response(user_input):\n",
        "    tokens = preprocess_input(user_input)\n",
        "\n",
        "    for key in responses:\n",
        "        if key in user_input.lower():\n",
        "            return random.choice(responses[key])\n",
        "\n",
        "    return random.choice(responses[\"default\"])\n"
      ],
      "metadata": {
        "colab": {
          "base_uri": "https://localhost:8080/"
        },
        "id": "vkE3m_M2IISU",
        "outputId": "88938d6d-a137-48e5-e1b6-ddbb0ff8e52a"
      },
      "execution_count": 27,
      "outputs": [
        {
          "output_type": "stream",
          "name": "stderr",
          "text": [
            "[nltk_data] Downloading package punkt to /root/nltk_data...\n",
            "[nltk_data]   Package punkt is already up-to-date!\n",
            "[nltk_data] Downloading package stopwords to /root/nltk_data...\n",
            "[nltk_data]   Package stopwords is already up-to-date!\n"
          ]
        }
      ]
    },
    {
      "cell_type": "code",
      "source": [
        "while True:\n",
        "    user_input = input(\"You: \")\n",
        "    if user_input.lower() == 'exit':\n",
        "        print(\"Goodbye!\")\n",
        "        break\n",
        "    response = get_response(user_input)\n",
        "    print(\"Bot:\", response)"
      ],
      "metadata": {
        "colab": {
          "base_uri": "https://localhost:8080/"
        },
        "id": "04aFs-iGI-Cr",
        "outputId": "f1165871-517b-4c38-d278-0b580b9006d2"
      },
      "execution_count": 28,
      "outputs": [
        {
          "output_type": "stream",
          "name": "stdout",
          "text": [
            "You: hi\n",
            "Bot: Hello!\n",
            "You: how are you\n",
            "Bot: Not too bad, thanks for asking.\n",
            "You: bye\n",
            "Bot: Bye!\n",
            "You: exit\n",
            "Goodbye!\n"
          ]
        }
      ]
    }
  ]
}