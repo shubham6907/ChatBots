{
  "nbformat": 4,
  "nbformat_minor": 0,
  "metadata": {
    "colab": {
      "provenance": [],
      "authorship_tag": "ABX9TyMcQYlN+lrAPAGBPjb2aZ6q",
      "include_colab_link": true
    },
    "kernelspec": {
      "name": "python3",
      "display_name": "Python 3"
    },
    "language_info": {
      "name": "python"
    }
  },
  "cells": [
    {
      "cell_type": "markdown",
      "metadata": {
        "id": "view-in-github",
        "colab_type": "text"
      },
      "source": [
        "<a href=\"https://colab.research.google.com/github/shubham6907/ChatBots/blob/main/Retrieval_Based_ChatBot_using_Natural_Language_Toolkit.ipynb\" target=\"_parent\"><img src=\"https://colab.research.google.com/assets/colab-badge.svg\" alt=\"Open In Colab\"/></a>"
      ]
    },
    {
      "cell_type": "code",
      "execution_count": 5,
      "metadata": {
        "colab": {
          "base_uri": "https://localhost:8080/"
        },
        "id": "81F6RLP65hdl",
        "outputId": "00b8b99c-8949-479f-85ee-2997c6627b9a"
      },
      "outputs": [
        {
          "output_type": "stream",
          "name": "stderr",
          "text": [
            "[nltk_data] Downloading package punkt to /root/nltk_data...\n",
            "[nltk_data]   Package punkt is already up-to-date!\n",
            "[nltk_data] Downloading package stopwords to /root/nltk_data...\n",
            "[nltk_data]   Package stopwords is already up-to-date!\n"
          ]
        }
      ],
      "source": [
        "# Using Natural Language Toolkit (nltk)\n",
        "\n",
        "import nltk\n",
        "from nltk.tokenize import word_tokenize\n",
        "from nltk.corpus import stopwords\n",
        "from nltk.stem import PorterStemmer\n",
        "from sklearn.feature_extraction.text import TfidfVectorizer\n",
        "from sklearn.metrics.pairwise import cosine_similarity\n",
        "\n",
        "nltk.download('punkt')\n",
        "nltk.download('stopwords')\n",
        "\n",
        "# Sample conversation data\n",
        "conversation_data = [\n",
        "    \"Hi there!\",\n",
        "    \"Hello!\",\n",
        "    \"How are you doing?\",\n",
        "    \"I'm good, thank you. How about you?\",\n",
        "    # Add more conversation data\n",
        "]\n",
        "\n",
        "# Preprocess the conversation data\n",
        "def preprocess_text(text):\n",
        "    # Tokenize\n",
        "    tokens = word_tokenize(text.lower())\n",
        "    # Remove stopwords\n",
        "    stop_words = set(stopwords.words('english'))\n",
        "    tokens = [word for word in tokens if word.isalnum() and word not in stop_words]\n",
        "    # Stemming\n",
        "    stemmer = PorterStemmer()\n",
        "    tokens = [stemmer.stem(word) for word in tokens]\n",
        "    return ' '.join(tokens)\n",
        "\n",
        "preprocessed_data = [preprocess_text(text) for text in conversation_data]\n",
        "\n",
        "# Create a TF-IDF vectorizer\n",
        "vectorizer = TfidfVectorizer()\n",
        "tfidf_matrix = vectorizer.fit_transform(preprocessed_data)\n",
        "\n",
        "def get_response(user_input):\n",
        "    # Preprocess user input\n",
        "    preprocessed_input = preprocess_text(user_input)\n",
        "\n",
        "    # Transform user input using the vectorizer\n",
        "    user_vector = vectorizer.transform([preprocessed_input])\n",
        "\n",
        "    # Calculate cosine similarities between the user input and the conversation data\n",
        "    similarities = cosine_similarity(user_vector, tfidf_matrix)\n",
        "\n",
        "    # Find the index of the most similar response\n",
        "    index_of_most_similar = similarities.argmax()\n",
        "\n",
        "    # Return the corresponding response\n",
        "    return conversation_data[index_of_most_similar]\n"
      ]
    },
    {
      "cell_type": "code",
      "source": [
        "while True:\n",
        "    user_input = input(\"You: \")\n",
        "    if user_input.lower() == 'exit':\n",
        "        break\n",
        "    response = get_response(user_input)\n",
        "    print(\"ChatBot:\", response)"
      ],
      "metadata": {
        "colab": {
          "base_uri": "https://localhost:8080/"
        },
        "id": "ZAp-TSsU6wjc",
        "outputId": "e1024878-d293-498d-d979-2acdcf62010e"
      },
      "execution_count": 7,
      "outputs": [
        {
          "name": "stdout",
          "output_type": "stream",
          "text": [
            "You: hi\n",
            "ChatBot: Hi there!\n",
            "You: exit\n"
          ]
        }
      ]
    }
  ]
}